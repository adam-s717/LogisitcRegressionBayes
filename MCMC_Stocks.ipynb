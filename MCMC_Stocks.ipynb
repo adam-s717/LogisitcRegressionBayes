{
 "cells": [
  {
   "cell_type": "markdown",
   "metadata": {},
   "source": [
    "## Stocks Analysis"
   ]
  },
  {
   "cell_type": "code",
   "execution_count": 3,
   "metadata": {},
   "outputs": [],
   "source": [
    "##Import necessary packages for data analysis/simulation\n",
    "import pandas as pd\n",
    "import numpy as np\n",
    "import matplotlib.pyplot as plt\n",
    "\n",
    "##Import scipy to conduct normal distribution tests\n",
    "from scipy import stats"
   ]
  },
  {
   "cell_type": "markdown",
   "metadata": {},
   "source": [
    "#### Data Cleaning"
   ]
  },
  {
   "cell_type": "code",
   "execution_count": 4,
   "metadata": {},
   "outputs": [],
   "source": [
    "##Pull in data as a pandas dataframe\n",
    "stocks = pd.read_csv(\"sp500_joined_returns.csv\")\n",
    "\n",
    "##Filter the stocks dataset to only be the last 400 rows\n",
    "stocks = stocks.iloc[-401:,]\n",
    "\n",
    "##Pull in Binary y variable\n",
    "y = pd.read_csv('SPY.csv')\n",
    "\n",
    "##Add our y value to the stocks dataset\n",
    "stocks['y'] = list(y['SPYUpDown'])"
   ]
  },
  {
   "cell_type": "code",
   "execution_count": 5,
   "metadata": {},
   "outputs": [
    {
     "data": {
      "text/html": [
       "<div>\n",
       "<style scoped>\n",
       "    .dataframe tbody tr th:only-of-type {\n",
       "        vertical-align: middle;\n",
       "    }\n",
       "\n",
       "    .dataframe tbody tr th {\n",
       "        vertical-align: top;\n",
       "    }\n",
       "\n",
       "    .dataframe thead th {\n",
       "        text-align: right;\n",
       "    }\n",
       "</style>\n",
       "<table border=\"1\" class=\"dataframe\">\n",
       "  <thead>\n",
       "    <tr style=\"text-align: right;\">\n",
       "      <th></th>\n",
       "      <th>Date</th>\n",
       "      <th>MMM</th>\n",
       "      <th>ABT</th>\n",
       "      <th>ABBV</th>\n",
       "      <th>ABMD</th>\n",
       "      <th>ACN</th>\n",
       "      <th>ATVI</th>\n",
       "      <th>ADBE</th>\n",
       "      <th>AMD</th>\n",
       "      <th>AAP</th>\n",
       "      <th>...</th>\n",
       "      <th>WYNN</th>\n",
       "      <th>XEL</th>\n",
       "      <th>XLNX</th>\n",
       "      <th>XYL</th>\n",
       "      <th>YUM</th>\n",
       "      <th>ZBRA</th>\n",
       "      <th>ZBH</th>\n",
       "      <th>ZION</th>\n",
       "      <th>ZTS</th>\n",
       "      <th>y</th>\n",
       "    </tr>\n",
       "  </thead>\n",
       "  <tbody>\n",
       "    <tr>\n",
       "      <th>5266</th>\n",
       "      <td>2020-12-07</td>\n",
       "      <td>-1.570007</td>\n",
       "      <td>-0.540001</td>\n",
       "      <td>-1.200005</td>\n",
       "      <td>0.170013</td>\n",
       "      <td>-0.550003</td>\n",
       "      <td>0.869995</td>\n",
       "      <td>5.250000</td>\n",
       "      <td>-0.879997</td>\n",
       "      <td>2.069992</td>\n",
       "      <td>...</td>\n",
       "      <td>-1.440002</td>\n",
       "      <td>0.830002</td>\n",
       "      <td>-1.129990</td>\n",
       "      <td>-0.450005</td>\n",
       "      <td>-0.290001</td>\n",
       "      <td>-4.450012</td>\n",
       "      <td>-2.939987</td>\n",
       "      <td>-1.029999</td>\n",
       "      <td>0.889999</td>\n",
       "      <td>1</td>\n",
       "    </tr>\n",
       "    <tr>\n",
       "      <th>5267</th>\n",
       "      <td>2020-12-08</td>\n",
       "      <td>2.720001</td>\n",
       "      <td>0.000000</td>\n",
       "      <td>1.990005</td>\n",
       "      <td>1.640015</td>\n",
       "      <td>0.860001</td>\n",
       "      <td>1.149994</td>\n",
       "      <td>2.989990</td>\n",
       "      <td>-1.130005</td>\n",
       "      <td>0.089996</td>\n",
       "      <td>...</td>\n",
       "      <td>0.680000</td>\n",
       "      <td>-0.220001</td>\n",
       "      <td>-1.779999</td>\n",
       "      <td>0.899994</td>\n",
       "      <td>0.550003</td>\n",
       "      <td>2.209991</td>\n",
       "      <td>1.630005</td>\n",
       "      <td>1.059998</td>\n",
       "      <td>2.120010</td>\n",
       "      <td>1</td>\n",
       "    </tr>\n",
       "    <tr>\n",
       "      <th>5268</th>\n",
       "      <td>2020-12-09</td>\n",
       "      <td>2.619995</td>\n",
       "      <td>-0.779999</td>\n",
       "      <td>0.769997</td>\n",
       "      <td>-6.390015</td>\n",
       "      <td>-3.349991</td>\n",
       "      <td>-0.919998</td>\n",
       "      <td>-12.290009</td>\n",
       "      <td>-2.930000</td>\n",
       "      <td>4.959991</td>\n",
       "      <td>...</td>\n",
       "      <td>-1.719994</td>\n",
       "      <td>-0.450005</td>\n",
       "      <td>-4.230011</td>\n",
       "      <td>-0.450005</td>\n",
       "      <td>0.970001</td>\n",
       "      <td>-1.029999</td>\n",
       "      <td>-0.009995</td>\n",
       "      <td>-0.719997</td>\n",
       "      <td>-0.990005</td>\n",
       "      <td>0</td>\n",
       "    </tr>\n",
       "    <tr>\n",
       "      <th>5269</th>\n",
       "      <td>2020-12-10</td>\n",
       "      <td>-1.379990</td>\n",
       "      <td>-0.240005</td>\n",
       "      <td>-1.570000</td>\n",
       "      <td>2.250000</td>\n",
       "      <td>0.290009</td>\n",
       "      <td>0.830002</td>\n",
       "      <td>-6.869995</td>\n",
       "      <td>2.110001</td>\n",
       "      <td>1.970001</td>\n",
       "      <td>...</td>\n",
       "      <td>3.790001</td>\n",
       "      <td>-0.529999</td>\n",
       "      <td>3.110001</td>\n",
       "      <td>0.379997</td>\n",
       "      <td>0.299995</td>\n",
       "      <td>2.330017</td>\n",
       "      <td>-1.169998</td>\n",
       "      <td>0.470001</td>\n",
       "      <td>-1.330002</td>\n",
       "      <td>1</td>\n",
       "    </tr>\n",
       "    <tr>\n",
       "      <th>5270</th>\n",
       "      <td>2020-12-11</td>\n",
       "      <td>1.720001</td>\n",
       "      <td>0.919998</td>\n",
       "      <td>-0.670006</td>\n",
       "      <td>-7.750000</td>\n",
       "      <td>-0.059998</td>\n",
       "      <td>0.550003</td>\n",
       "      <td>-0.070007</td>\n",
       "      <td>0.110001</td>\n",
       "      <td>-0.360001</td>\n",
       "      <td>...</td>\n",
       "      <td>-1.689995</td>\n",
       "      <td>0.169998</td>\n",
       "      <td>0.130005</td>\n",
       "      <td>1.080002</td>\n",
       "      <td>0.110001</td>\n",
       "      <td>4.779999</td>\n",
       "      <td>-3.240005</td>\n",
       "      <td>0.299999</td>\n",
       "      <td>1.979996</td>\n",
       "      <td>1</td>\n",
       "    </tr>\n",
       "  </tbody>\n",
       "</table>\n",
       "<p>5 rows × 507 columns</p>\n",
       "</div>"
      ],
      "text/plain": [
       "            Date       MMM       ABT      ABBV      ABMD       ACN      ATVI  \\\n",
       "5266  2020-12-07 -1.570007 -0.540001 -1.200005  0.170013 -0.550003  0.869995   \n",
       "5267  2020-12-08  2.720001  0.000000  1.990005  1.640015  0.860001  1.149994   \n",
       "5268  2020-12-09  2.619995 -0.779999  0.769997 -6.390015 -3.349991 -0.919998   \n",
       "5269  2020-12-10 -1.379990 -0.240005 -1.570000  2.250000  0.290009  0.830002   \n",
       "5270  2020-12-11  1.720001  0.919998 -0.670006 -7.750000 -0.059998  0.550003   \n",
       "\n",
       "           ADBE       AMD       AAP  ...      WYNN       XEL      XLNX  \\\n",
       "5266   5.250000 -0.879997  2.069992  ... -1.440002  0.830002 -1.129990   \n",
       "5267   2.989990 -1.130005  0.089996  ...  0.680000 -0.220001 -1.779999   \n",
       "5268 -12.290009 -2.930000  4.959991  ... -1.719994 -0.450005 -4.230011   \n",
       "5269  -6.869995  2.110001  1.970001  ...  3.790001 -0.529999  3.110001   \n",
       "5270  -0.070007  0.110001 -0.360001  ... -1.689995  0.169998  0.130005   \n",
       "\n",
       "           XYL       YUM      ZBRA       ZBH      ZION       ZTS  y  \n",
       "5266 -0.450005 -0.290001 -4.450012 -2.939987 -1.029999  0.889999  1  \n",
       "5267  0.899994  0.550003  2.209991  1.630005  1.059998  2.120010  1  \n",
       "5268 -0.450005  0.970001 -1.029999 -0.009995 -0.719997 -0.990005  0  \n",
       "5269  0.379997  0.299995  2.330017 -1.169998  0.470001 -1.330002  1  \n",
       "5270  1.080002  0.110001  4.779999 -3.240005  0.299999  1.979996  1  \n",
       "\n",
       "[5 rows x 507 columns]"
      ]
     },
     "execution_count": 5,
     "metadata": {},
     "output_type": "execute_result"
    }
   ],
   "source": [
    "##Explore the stocks dataframe\n",
    "stocks.tail()\n",
    "\n",
    "##Delete the last day because of missing values\n",
    "stocks = stocks.head(-1)\n",
    "stocks.tail()"
   ]
  },
  {
   "cell_type": "code",
   "execution_count": 6,
   "metadata": {},
   "outputs": [],
   "source": [
    "##Explore the stocks dataset to make sure we combined them correctly"
   ]
  },
  {
   "cell_type": "code",
   "execution_count": 7,
   "metadata": {},
   "outputs": [],
   "source": [
    "##Obtain list of company names present in the pandas dataframe\n",
    "compNames = list(stocks)\n",
    "\n",
    "##Create an empty list for companies we will use\n",
    "useComps = []\n",
    "\n",
    "##Now determine which stocks do not have any missing values in the columns\n",
    "for i in compNames:\n",
    "    \n",
    "    ##Boolean to asses if there are any missing values in the column \n",
    "    if stocks[i].isnull().values.any() == False:\n",
    "        \n",
    "        ##If there are not missing values append to a new list\n",
    "        useComps.append(i)"
   ]
  },
  {
   "cell_type": "code",
   "execution_count": 8,
   "metadata": {},
   "outputs": [
    {
     "name": "stdout",
     "output_type": "stream",
     "text": [
      "            Date       MMM       ABT      ABBV      ABMD       ACN      ATVI  \\\n",
      "4871  2019-05-15  0.099991  1.010002  0.269997  5.179993  3.189987  1.789997   \n",
      "4872  2019-05-16 -2.580002  0.080002  0.519997  3.570007  1.899994  1.020000   \n",
      "4873  2019-05-17 -0.910004 -0.320000  0.930000 -0.259979  1.940002 -0.420002   \n",
      "4874  2019-05-20 -1.710007  0.169998  0.800003 -5.599991  1.559998 -2.040001   \n",
      "4875  2019-05-21  0.290009 -0.529999  0.549995  6.349991 -0.039993 -0.520000   \n",
      "\n",
      "          ADBE       AMD       AAP  ...      WYNN       XEL      XLNX  \\\n",
      "4871  7.000000  0.709999  0.990005  ...  3.250000 -0.110001  2.930000   \n",
      "4872  4.919983  0.639999  1.479996  ...  2.159996  0.689999 -3.860001   \n",
      "4873 -1.829987 -0.190001  2.050003  ... -3.849998  0.590000  0.099998   \n",
      "4874 -0.649994 -0.299999  1.289993  ...  0.790001  0.119999  0.040001   \n",
      "4875 -0.139984  0.170000  2.279999  ...  0.700005 -0.339996  1.839996   \n",
      "\n",
      "           XYL       YUM      ZBRA       ZBH      ZION       ZTS  y  \n",
      "4871  1.269997  0.110001 -0.300003  0.300003 -0.459999  1.099998  1  \n",
      "4872 -0.669998 -0.149994  3.990005 -0.900002  0.400002  0.529999  1  \n",
      "4873 -0.559998  0.940002 -8.880005 -0.490005 -0.050003  0.270004  1  \n",
      "4874 -0.239998 -0.430000 -4.369995  0.059998 -0.139999  0.580002  0  \n",
      "4875  0.649994  0.580002  2.709991 -0.650002  0.430000 -0.370003  1  \n",
      "\n",
      "[5 rows x 503 columns] \n",
      "\n",
      "<class 'pandas.core.frame.DataFrame'>\n",
      "RangeIndex: 400 entries, 4871 to 5270\n",
      "Columns: 503 entries, Date to y\n",
      "dtypes: float64(501), int64(1), object(1)\n",
      "memory usage: 1.5+ MB\n",
      "None\n"
     ]
    }
   ],
   "source": [
    "##Keep only MMM company for now in order to just experiment with this concept\n",
    "stocks = stocks[useComps]\n",
    "\n",
    "##Confirms that only the MMM and Date column were kept\n",
    "print(stocks.head(5),'\\n')\n",
    "\n",
    "##As well, make sure that the data types are correct\n",
    "print(stocks.info()) ##Need to change the 'Date' column from an object to datetime format "
   ]
  },
  {
   "cell_type": "markdown",
   "metadata": {},
   "source": [
    "#### Data Analysis"
   ]
  },
  {
   "cell_type": "code",
   "execution_count": 9,
   "metadata": {},
   "outputs": [
    {
     "data": {
      "text/plain": [
       "Text(0.5, 0.98, 'MMM Daily Returns Histogram')"
      ]
     },
     "execution_count": 9,
     "metadata": {},
     "output_type": "execute_result"
    },
    {
     "data": {
      "image/png": "[encoded data removed]",
      "text/plain": [
       "<Figure size 432x288 with 1 Axes>"
      ]
     },
     "metadata": {
      "needs_background": "light"
     },
     "output_type": "display_data"
    }
   ],
   "source": [
    "##Plot the distribution of the MMM Stock returns as a histogram\n",
    "stocks.ADP.hist(bins=100)\n",
    "plt.suptitle('MMM Daily Returns Histogram') ##Add title to the histogram"
   ]
  },
  {
   "cell_type": "code",
   "execution_count": 10,
   "metadata": {},
   "outputs": [
    {
     "data": {
      "image/png": "[encoded data removed]",
      "text/plain": [
       "<Figure size 864x1152 with 60 Axes>"
      ]
     },
     "metadata": {
      "needs_background": "light"
     },
     "output_type": "display_data"
    }
   ],
   "source": [
    "##Create a subplot of the returns of all of our companies\n",
    "##Resize the plotting canvas\n",
    "plt.figure(figsize=(12,16))\n",
    "\n",
    "##Loop to create out subplot\n",
    "for i in range(60):\n",
    "    \n",
    "    ##Define the position we'd like to be in for the subplot\n",
    "    plt.subplot(12,5,i+1)\n",
    "    plt.title(useComps[i+1]+' Returns Histogram')\n",
    "    stocks[useComps[i+1]].hist(bins=100)\n",
    "\n",
    "##Adjust the layout of the subplot to avoid overlapping plots\n",
    "plt.tight_layout()"
   ]
  },
  {
   "cell_type": "markdown",
   "metadata": {},
   "source": [
    "#### Interpretation \n",
    "\n",
    "The data seems to have a normal distribution for the returns of each stock. We will assume that then this data is 'practically normal' and model is using a Guassian distribution. We will see results in the statistical test below that counter this but it is well-known that when working with a very large number of datapoints, statsitcial tests are likely to fail in classifying normal distributions as they become very sensitive to slight deviations in normality. Here, we will rely on our visual confirmations that daily returns tend to be Guassian. "
   ]
  },
  {
   "cell_type": "code",
   "execution_count": 11,
   "metadata": {},
   "outputs": [],
   "source": [
    "##Create two new dataframes for the x and the y data\n",
    "x = stocks[['DTE','AEP','EQR','UDR','AEE']].head(-200)\n",
    "y = stocks['y'].head(-200)\n",
    "\n",
    "##Store the x and y test data\n",
    "xtest = stocks[['DTE','AEP','EQR','UDR','AEE']].tail(200)\n",
    "ytest = stocks['y'].tail(200)"
   ]
  },
  {
   "cell_type": "markdown",
   "metadata": {},
   "source": [
    "### Run Logistic Regression with Sci-Kit Learn"
   ]
  },
  {
   "cell_type": "code",
   "execution_count": 12,
   "metadata": {},
   "outputs": [],
   "source": [
    "##Import packages to run logistic regression\n",
    "from sklearn.linear_model import LogisticRegression"
   ]
  },
  {
   "cell_type": "code",
   "execution_count": 13,
   "metadata": {},
   "outputs": [
    {
     "data": {
      "text/plain": [
       "LogisticRegression(random_state=0, solver='liblinear')"
      ]
     },
     "execution_count": 13,
     "metadata": {},
     "output_type": "execute_result"
    }
   ],
   "source": [
    "##Define the model for the logistic regression\n",
    "model = LogisticRegression(solver='liblinear', random_state=0)\n",
    "\n",
    "##Fit the logistic regression model\n",
    "model.fit(x, y)"
   ]
  },
  {
   "cell_type": "code",
   "execution_count": 14,
   "metadata": {},
   "outputs": [],
   "source": [
    "##Obtain coefficients and intercept for the logistic regression model\n",
    "logCof = model.coef_ \n",
    "logInt = b = model.intercept_[0]"
   ]
  },
  {
   "cell_type": "markdown",
   "metadata": {},
   "source": [
    "### Metropolis-Hastings Sampling for Inference"
   ]
  },
  {
   "cell_type": "code",
   "execution_count": 15,
   "metadata": {},
   "outputs": [],
   "source": [
    "##Need to import multivariate normal distribution before performing simulation\n",
    "from scipy.stats import multivariate_normal"
   ]
  },
  {
   "cell_type": "markdown",
   "metadata": {},
   "source": [
    "##### Define Function to Compute Likelihood Probabilities"
   ]
  },
  {
   "cell_type": "code",
   "execution_count": 16,
   "metadata": {},
   "outputs": [],
   "source": [
    "##Define a function that calculates the likelihood through the x dataset\n",
    "def likelihood(x,betas,yList):\n",
    "    \n",
    "    ##Define a variable set at 1 for the product of all the probabilities\n",
    "    i = 0\n",
    "    prod = float(1)\n",
    "    for index, row in x.iterrows():\n",
    "        \n",
    "        ##Only do the following when i<200\n",
    "        if i<200:\n",
    "        \n",
    "            ##Get our y value from the list\n",
    "            y = yList[i]  \n",
    "\n",
    "            ##Obtain values of the rows\n",
    "            dataX = np.array([row['DTE'], row['AEP'], row['EQR'],row['UDR'],row['AEE']])\n",
    "\n",
    "            ##Store the beta values properly\n",
    "            b = betas[1:]\n",
    "            b0 = betas[0]\n",
    "\n",
    "            ##Calculate the value to go in the exponential\n",
    "            expValue = b0 + np.matmul(b,np.transpose(dataX))\n",
    "\n",
    "            ##Store the exponential value to be plugged into the likliehood\n",
    "            e = np.exp(expValue*y)   \n",
    "\n",
    "            ##Compute the likelihood\n",
    "            #l = ((e/(1+e))**y)*((1-(e/(1+e)))**(1-y))\n",
    "            l = e/(1+np.exp(expValue))\n",
    "\n",
    "            ##Multiply this to our running probability product\n",
    "            prod = prod*l\n",
    "\n",
    "            ##Iterate the counter for the y value\n",
    "            i+=1\n",
    "            \n",
    "        ##Else we exit the loop\n",
    "        else:\n",
    "            break ##exit the loop\n",
    "        \n",
    "    ##Return the likelihood\n",
    "    return prod"
   ]
  },
  {
   "cell_type": "markdown",
   "metadata": {},
   "source": [
    "##### Define Function to Compute Prior Probabilities"
   ]
  },
  {
   "cell_type": "code",
   "execution_count": 17,
   "metadata": {},
   "outputs": [],
   "source": [
    "##Define a function that gives us the probability of the prior\n",
    "def prior(betas):\n",
    "    \n",
    "    ##Create a multivariate normal distribution \n",
    "    normDist = multivariate_normal(mean=[0,0,0,0,0,0], cov=[[1,0,0,0,0,0],[0,1,0,0,0,0],\n",
    "                                                            [0,0,1,0,0,0],[0,0,0,1,0,0],\n",
    "                                                            [0,0,0,0,1,0],[0,0,0,0,0,1]])\n",
    "    \n",
    "    ##Get the probability for the beta vector input\n",
    "    priorProb = normDist.pdf(betas)\n",
    "    \n",
    "    ##Return the prior probability\n",
    "    return priorProb"
   ]
  },
  {
   "cell_type": "markdown",
   "metadata": {},
   "source": [
    "##### Define Function to Create Proposal and Calculate Probabilities"
   ]
  },
  {
   "cell_type": "code",
   "execution_count": 18,
   "metadata": {},
   "outputs": [],
   "source": [
    "##Define a function to generate a proposal distribition \n",
    "def proposal(mean, cov):\n",
    "    \n",
    "    ##Generate a multivariate normal based off the mean and covariance parameters\n",
    "    prop = multivariate_normal(mean, cov)\n",
    "    \n",
    "    ##Return this proposal distribution\n",
    "    return prop\n",
    "\n",
    "##Define a function to get the probability of a candidate from the proposal distribution\n",
    "def propProb(betas,dist):\n",
    "    \n",
    "    ##Get the probability of the candidate betas\n",
    "    prob = dist.pdf(betas)\n",
    "    \n",
    "    ##Return this probability\n",
    "    return prob"
   ]
  },
  {
   "cell_type": "markdown",
   "metadata": {},
   "source": [
    "##### Define Function to Perform Metropolis-Hastings for Regression Coefficients"
   ]
  },
  {
   "cell_type": "code",
   "execution_count": 19,
   "metadata": {},
   "outputs": [],
   "source": [
    "##Define a function to carry out Metropolis-Hastings\n",
    "def metHast(start,iters,propDist,x,y):\n",
    "    \n",
    "    ##Create a list to store all betas in \n",
    "    betas = []\n",
    "    \n",
    "    ##Iterate through specified number of iterations\n",
    "    for i in range(iters):\n",
    "        if i == 50000:\n",
    "            print('y')\n",
    "        ##Draw a candidate from the proporsal distribution\n",
    "        cand = propDist.rvs()\n",
    "        \n",
    "        ##Calculate the target pdf for the candiate and starting betas\n",
    "        tCand = likelihood(x,cand,y)*prior(cand)\n",
    "        tStart = likelihood(x,start,y)*prior(start)\n",
    "\n",
    "        ##Calculate the proposal probabilitys for the candidate and starting betas\n",
    "        pCand = propProb(cand,propDist)\n",
    "        pStart = propProb(start,propDist)\n",
    "        \n",
    "        ##Define the acceptance constant\n",
    "        a = (tCand*pStart)/(tStart*pCand)\n",
    "        \n",
    "        ##Conditionals to assess if the new betas will be accepted\n",
    "        if a>=1:\n",
    "            \n",
    "            ##We accept the candidate betas\n",
    "            start = cand\n",
    "            \n",
    "        ##Else statement to draw from unfirom random\n",
    "        else:\n",
    "            u = np.random.uniform(0,1)\n",
    "            if u<a:\n",
    "                start = cand\n",
    "            else:\n",
    "                start = start\n",
    "        ##Append the new betas\n",
    "        betas.append(start)\n",
    "        \n",
    "    ##Return our sampled parameters\n",
    "    return betas"
   ]
  },
  {
   "cell_type": "code",
   "execution_count": 20,
   "metadata": {},
   "outputs": [
    {
     "name": "stdout",
     "output_type": "stream",
     "text": [
      "y\n"
     ]
    }
   ],
   "source": [
    "##Try out the metropolis hastings algorithm\n",
    "start = [0,0,0,0,0,0]\n",
    "iters = 100000\n",
    "propDist = multivariate_normal(mean=[0,0,0,0,0,0], cov=[[1,0,0,0,0,0],[0,1,0,0,0,0],\n",
    "                                                        [0,0,1,0,0,0],[0,0,0,1,0,0],\n",
    "                                                       [0,0,0,0,1,0],[0,0,0,0,0,1]])\n",
    "betas = metHast(start,iters,propDist,x,list(y))"
   ]
  },
  {
   "cell_type": "code",
   "execution_count": 21,
   "metadata": {},
   "outputs": [],
   "source": [
    "##Find the median values from what we have inferred\n",
    "arr = np.array(betas[10000:])"
   ]
  },
  {
   "cell_type": "code",
   "execution_count": 22,
   "metadata": {},
   "outputs": [],
   "source": [
    "coeffs = np.median(arr,axis=0)"
   ]
  },
  {
   "cell_type": "code",
   "execution_count": 23,
   "metadata": {},
   "outputs": [
    {
     "data": {
      "text/plain": [
       "array([ 0.23318551,  0.36352543, -0.49232342,  0.566158  ,  0.58944846,\n",
       "        0.38385091])"
      ]
     },
     "execution_count": 23,
     "metadata": {},
     "output_type": "execute_result"
    }
   ],
   "source": [
    "coeffs"
   ]
  },
  {
   "cell_type": "code",
   "execution_count": 25,
   "metadata": {},
   "outputs": [],
   "source": [
    "from numpy import savetxt\n",
    "savetxt('betaDist.csv', betas, delimiter=',')"
   ]
  },
  {
   "cell_type": "code",
   "execution_count": 38,
   "metadata": {},
   "outputs": [
    {
     "data": {
      "text/plain": [
       "array([ 0.33743561, -0.42976002,  0.60368387,  0.47281755,  0.35754993,\n",
       "        0.23127087])"
      ]
     },
     "execution_count": 38,
     "metadata": {},
     "output_type": "execute_result"
    }
   ],
   "source": [
    "np.append(logCof,b)"
   ]
  },
  {
   "cell_type": "code",
   "execution_count": 39,
   "metadata": {},
   "outputs": [],
   "source": [
    "#savetxt('metropCoeff.csv', coeffs, delimiter=',')\n",
    "savetxt('logInt.csv',np.append(logCof,b),delimiter=',')"
   ]
  },
  {
   "cell_type": "markdown",
   "metadata": {},
   "source": [
    "##### Define a Function to Compute Predictions for each Model"
   ]
  },
  {
   "cell_type": "code",
   "execution_count": 41,
   "metadata": {},
   "outputs": [],
   "source": [
    "##Define function to compute the predicted probabilities from the model\n",
    "##Test x is the testing data we are making predictions for\n",
    "def predict(testx,coefficients,intercept):\n",
    "    \n",
    "    ##Calculate the predictions\n",
    "    outputs  = np.matmul(testx,coefficients.T)+intercept\n",
    "    \n",
    "    ##Return the predictions\n",
    "    return outputs"
   ]
  },
  {
   "cell_type": "markdown",
   "metadata": {},
   "source": [
    "##### Define Function to Compute the Models Performance Metrics"
   ]
  },
  {
   "cell_type": "code",
   "execution_count": 79,
   "metadata": {},
   "outputs": [],
   "source": [
    "##Define function that turns probabilistic predictions in binary predictions\n",
    "def probConvert(preds):\n",
    "    \n",
    "    ##Create an empty list to fill in with binary predictions\n",
    "    predBin = []\n",
    "    \n",
    "    ##Iterate through probability predictions\n",
    "    for i in preds:\n",
    "        \n",
    "        ##Conditional to assess whether to assign a 0 or 1 prediction to the binary prediction list\n",
    "        if i<0:\n",
    "            predBin.append(0)\n",
    "        else:\n",
    "            predBin.append(1)\n",
    "            \n",
    "    ##Return the new binary predictions\n",
    "    return predBin\n",
    "\n",
    "##Define function to compute models performance metrics\n",
    "##Takes a list of predictions and a list of y values to test the predictions, predictions should be binary\n",
    "def metrics(preds,testy):\n",
    "    \n",
    "    ##Create a variable to keep count of the total number of observations correctly predicted\n",
    "    correct = 0\n",
    "    \n",
    "    ##Iterate through the predictions and test y to assess accuracy\n",
    "    for i,j in zip(preds,list(y)):\n",
    "        \n",
    "        ##Conditional to assess if prediction is correct\n",
    "        if i==j:\n",
    "            \n",
    "            ##Add to count of correct predictions\n",
    "            correct+=1\n",
    "            \n",
    "    ##Return the count of correct predictions (can calculate other measures later once we know what we're doing)\n",
    "    return correct"
   ]
  },
  {
   "cell_type": "code",
   "execution_count": 43,
   "metadata": {},
   "outputs": [],
   "source": [
    "##Compute predictions for the Metropolis-Hastings Parameters\n",
    "predM = predict(xtest,coeffs[1:],coeffs[0])\n",
    "\n",
    "##Convert the predicted probabilities to binary predictions\n",
    "binaryM = probConvert(predM)"
   ]
  },
  {
   "cell_type": "code",
   "execution_count": 74,
   "metadata": {},
   "outputs": [],
   "source": [
    "##Compute Predictions for the logistic regression parameters\n",
    "lCofs = [logCof[0][0],logCof[0][1],logCof[0][2],logCof[0][3],logCof[0][4]]\n",
    "predL = predict(xtest,np.transpose(lCofs),b)\n",
    "\n",
    "##Convert predicted probabilities to binary predictions\n",
    "binaryL = probConvert(predL)"
   ]
  },
  {
   "cell_type": "code",
   "execution_count": 77,
   "metadata": {},
   "outputs": [],
   "source": [
    "savetxt('predL.csv',predL,delimiter=',')"
   ]
  },
  {
   "cell_type": "code",
   "execution_count": 80,
   "metadata": {},
   "outputs": [
    {
     "data": {
      "text/plain": [
       "116"
      ]
     },
     "execution_count": 80,
     "metadata": {},
     "output_type": "execute_result"
    }
   ],
   "source": [
    "metrics(binaryM,ytest)"
   ]
  },
  {
   "cell_type": "code",
   "execution_count": 81,
   "metadata": {},
   "outputs": [
    {
     "data": {
      "text/plain": [
       "115"
      ]
     },
     "execution_count": 81,
     "metadata": {},
     "output_type": "execute_result"
    }
   ],
   "source": [
    "metrics(binaryL,ytest)"
   ]
  }
 ],
 "metadata": {
  "kernelspec": {
   "display_name": "mylaptop1",
   "language": "python",
   "name": "mylaptop1"
  },
  "language_info": {
   "codemirror_mode": {
    "name": "ipython",
    "version": 3
   },
   "file_extension": ".py",
   "mimetype": "text/x-python",
   "name": "python",
   "nbconvert_exporter": "python",
   "pygments_lexer": "ipython3",
   "version": "3.7.10"
  }
 },
 "nbformat": 4,
 "nbformat_minor": 4
}
